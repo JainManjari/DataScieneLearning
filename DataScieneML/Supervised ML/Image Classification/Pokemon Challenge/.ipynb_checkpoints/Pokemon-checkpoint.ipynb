{
 "cells": [
  {
   "cell_type": "code",
   "execution_count": 82,
   "metadata": {},
   "outputs": [],
   "source": [
    "import pandas as pd\n",
    "import cv2\n",
    "import matplotlib.pyplot as plt\n",
    "import numpy as np\n",
    "import os\n",
    "from pathlib import Path"
   ]
  },
  {
   "cell_type": "code",
   "execution_count": 83,
   "metadata": {},
   "outputs": [
    {
     "data": {
      "text/html": [
       "<div>\n",
       "<style scoped>\n",
       "    .dataframe tbody tr th:only-of-type {\n",
       "        vertical-align: middle;\n",
       "    }\n",
       "\n",
       "    .dataframe tbody tr th {\n",
       "        vertical-align: top;\n",
       "    }\n",
       "\n",
       "    .dataframe thead th {\n",
       "        text-align: right;\n",
       "    }\n",
       "</style>\n",
       "<table border=\"1\" class=\"dataframe\">\n",
       "  <thead>\n",
       "    <tr style=\"text-align: right;\">\n",
       "      <th></th>\n",
       "      <th>ImageId</th>\n",
       "      <th>NameOfPokemon</th>\n",
       "    </tr>\n",
       "  </thead>\n",
       "  <tbody>\n",
       "    <tr>\n",
       "      <th>0</th>\n",
       "      <td>296.jpg</td>\n",
       "      <td>Pikachu</td>\n",
       "    </tr>\n",
       "    <tr>\n",
       "      <th>1</th>\n",
       "      <td>297.jpg</td>\n",
       "      <td>Pikachu</td>\n",
       "    </tr>\n",
       "    <tr>\n",
       "      <th>2</th>\n",
       "      <td>298.jpg</td>\n",
       "      <td>Pikachu</td>\n",
       "    </tr>\n",
       "    <tr>\n",
       "      <th>3</th>\n",
       "      <td>299.jpg</td>\n",
       "      <td>Pikachu</td>\n",
       "    </tr>\n",
       "    <tr>\n",
       "      <th>4</th>\n",
       "      <td>300.jpg</td>\n",
       "      <td>Pikachu</td>\n",
       "    </tr>\n",
       "    <tr>\n",
       "      <th>...</th>\n",
       "      <td>...</td>\n",
       "      <td>...</td>\n",
       "    </tr>\n",
       "    <tr>\n",
       "      <th>299</th>\n",
       "      <td>616.jpg</td>\n",
       "      <td>Charmander</td>\n",
       "    </tr>\n",
       "    <tr>\n",
       "      <th>300</th>\n",
       "      <td>617.jpg</td>\n",
       "      <td>Charmander</td>\n",
       "    </tr>\n",
       "    <tr>\n",
       "      <th>301</th>\n",
       "      <td>618.jpg</td>\n",
       "      <td>Charmander</td>\n",
       "    </tr>\n",
       "    <tr>\n",
       "      <th>302</th>\n",
       "      <td>619.jpg</td>\n",
       "      <td>Charmander</td>\n",
       "    </tr>\n",
       "    <tr>\n",
       "      <th>303</th>\n",
       "      <td>620.jpg</td>\n",
       "      <td>Charmander</td>\n",
       "    </tr>\n",
       "  </tbody>\n",
       "</table>\n",
       "<p>304 rows × 2 columns</p>\n",
       "</div>"
      ],
      "text/plain": [
       "     ImageId NameOfPokemon\n",
       "0    296.jpg       Pikachu\n",
       "1    297.jpg       Pikachu\n",
       "2    298.jpg       Pikachu\n",
       "3    299.jpg       Pikachu\n",
       "4    300.jpg       Pikachu\n",
       "..       ...           ...\n",
       "299  616.jpg    Charmander\n",
       "300  617.jpg    Charmander\n",
       "301  618.jpg    Charmander\n",
       "302  619.jpg    Charmander\n",
       "303  620.jpg    Charmander\n",
       "\n",
       "[304 rows x 2 columns]"
      ]
     },
     "execution_count": 83,
     "metadata": {},
     "output_type": "execute_result"
    }
   ],
   "source": [
    "data=pd.read_csv(\"train.csv\")\n",
    "data"
   ]
  },
  {
   "cell_type": "code",
   "execution_count": 84,
   "metadata": {},
   "outputs": [
    {
     "data": {
      "text/html": [
       "<div>\n",
       "<style scoped>\n",
       "    .dataframe tbody tr th:only-of-type {\n",
       "        vertical-align: middle;\n",
       "    }\n",
       "\n",
       "    .dataframe tbody tr th {\n",
       "        vertical-align: top;\n",
       "    }\n",
       "\n",
       "    .dataframe thead th {\n",
       "        text-align: right;\n",
       "    }\n",
       "</style>\n",
       "<table border=\"1\" class=\"dataframe\">\n",
       "  <thead>\n",
       "    <tr style=\"text-align: right;\">\n",
       "      <th></th>\n",
       "      <th>ImageId</th>\n",
       "      <th>NameOfPokemon</th>\n",
       "    </tr>\n",
       "  </thead>\n",
       "  <tbody>\n",
       "    <tr>\n",
       "      <th>0</th>\n",
       "      <td>296.jpg</td>\n",
       "      <td>0</td>\n",
       "    </tr>\n",
       "    <tr>\n",
       "      <th>1</th>\n",
       "      <td>297.jpg</td>\n",
       "      <td>0</td>\n",
       "    </tr>\n",
       "    <tr>\n",
       "      <th>2</th>\n",
       "      <td>298.jpg</td>\n",
       "      <td>0</td>\n",
       "    </tr>\n",
       "    <tr>\n",
       "      <th>3</th>\n",
       "      <td>299.jpg</td>\n",
       "      <td>0</td>\n",
       "    </tr>\n",
       "    <tr>\n",
       "      <th>4</th>\n",
       "      <td>300.jpg</td>\n",
       "      <td>0</td>\n",
       "    </tr>\n",
       "    <tr>\n",
       "      <th>...</th>\n",
       "      <td>...</td>\n",
       "      <td>...</td>\n",
       "    </tr>\n",
       "    <tr>\n",
       "      <th>299</th>\n",
       "      <td>616.jpg</td>\n",
       "      <td>2</td>\n",
       "    </tr>\n",
       "    <tr>\n",
       "      <th>300</th>\n",
       "      <td>617.jpg</td>\n",
       "      <td>2</td>\n",
       "    </tr>\n",
       "    <tr>\n",
       "      <th>301</th>\n",
       "      <td>618.jpg</td>\n",
       "      <td>2</td>\n",
       "    </tr>\n",
       "    <tr>\n",
       "      <th>302</th>\n",
       "      <td>619.jpg</td>\n",
       "      <td>2</td>\n",
       "    </tr>\n",
       "    <tr>\n",
       "      <th>303</th>\n",
       "      <td>620.jpg</td>\n",
       "      <td>2</td>\n",
       "    </tr>\n",
       "  </tbody>\n",
       "</table>\n",
       "<p>304 rows × 2 columns</p>\n",
       "</div>"
      ],
      "text/plain": [
       "     ImageId NameOfPokemon\n",
       "0    296.jpg             0\n",
       "1    297.jpg             0\n",
       "2    298.jpg             0\n",
       "3    299.jpg             0\n",
       "4    300.jpg             0\n",
       "..       ...           ...\n",
       "299  616.jpg             2\n",
       "300  617.jpg             2\n",
       "301  618.jpg             2\n",
       "302  619.jpg             2\n",
       "303  620.jpg             2\n",
       "\n",
       "[304 rows x 2 columns]"
      ]
     },
     "execution_count": 84,
     "metadata": {},
     "output_type": "execute_result"
    }
   ],
   "source": [
    "data['NameOfPokemon'][data['NameOfPokemon']==\"Pikachu\"]=0\n",
    "data['NameOfPokemon'][data['NameOfPokemon']==\"Bulbasaur\"]=1\n",
    "data['NameOfPokemon'][data['NameOfPokemon']==\"Charmander\"]=2\n",
    "data"
   ]
  },
  {
   "cell_type": "code",
   "execution_count": 85,
   "metadata": {
    "scrolled": true
   },
   "outputs": [
    {
     "data": {
      "text/plain": [
       "array(['296.jpg', '297.jpg', '298.jpg', '299.jpg', '300.jpg', '301.jpg',\n",
       "       '302.jpg', '303.jpg', '304.jpg', '305.jpg', '306.jpg', '307.jpg',\n",
       "       '308.jpg', '309.jpg', '310.jpg', '311.jpg', '312.jpg', '313.jpg',\n",
       "       '314.jpg', '315.jpg', '316.jpg', '317.jpg', '318.jpg', '319.jpg',\n",
       "       '320.jpg', '321.jpg', '322.jpg', '323.jpg', '324.jpg', '325.jpg',\n",
       "       '326.jpg', '327.jpg', '328.jpg', '329.jpg', '330.jpg', '331.jpg',\n",
       "       '332.jpg', '333.jpg', '334.jpg', '335.jpg', '336.jpg', '337.jpg',\n",
       "       '338.jpg', '339.jpg', '340.jpg', '341.jpg', '342.jpg', '343.jpg',\n",
       "       '344.jpg', '345.jpg', '346.jpg', '347.jpg', '348.jpg', '349.jpg',\n",
       "       '350.jpg', '351.jpg', '352.jpg', '353.jpg', '354.jpg', '355.jpg',\n",
       "       '356.jpg', '357.jpg', '358.jpg', '359.jpg', '360.jpg', '361.jpg',\n",
       "       '362.jpg', '363.jpg', '364.jpg', '365.jpg', '366.jpg', '367.jpg',\n",
       "       '368.jpg', '369.jpg', '370.jpg', '371.jpg', '372.jpg', '373.jpg',\n",
       "       '374.jpg', '375.jpg', '376.jpg', '377.jpg', '378.jpg', '379.jpg',\n",
       "       '380.jpg', '381.jpg', '382.jpg', '383.jpg', '384.jpg', '385.jpg',\n",
       "       '386.jpg', '387.jpg', '388.jpg', '389.jpg', '390.jpg', '391.jpg',\n",
       "       '392.jpg', '393.jpg', '394.jpg', '395.jpg', '396.jpg', '397.jpg',\n",
       "       '398.jpg', '399.jpg', '400.jpg', '401.jpg', '402.jpg', '403.jpg',\n",
       "       '404.jpg', '405.jpg', '406.jpg', '407.jpg', '408.jpg', '409.jpg',\n",
       "       '410.jpg', '411.jpg', '412.jpg', '413.jpg', '414.jpg', '415.jpg',\n",
       "       '416.jpg', '417.jpg', '418.jpg', '419.jpg', '420.jpg', '421.jpg',\n",
       "       '422.jpg', '423.jpg', '424.jpg', '425.jpg', '426.jpg', '427.jpg',\n",
       "       '428.jpg', '429.jpg', '430.jpg', '431.jpg', '432.jpg', '433.jpg',\n",
       "       '434.jpg', '435.jpg', '436.jpg', '437.jpg', '438.jpg', '439.jpg',\n",
       "       '440.jpg', '441.jpg', '442.jpg', '443.jpg', '444.jpg', '445.jpg',\n",
       "       '446.jpg', '447.jpg', '448.jpg', '449.jpg', '450.jpg', '451.jpg',\n",
       "       '452.jpg', '453.jpg', '454.jpg', '455.jpg', '456.jpg', '457.jpg',\n",
       "       '458.jpg', '459.jpg', '460.jpg', '461.jpg', '462.jpg', '463.jpg',\n",
       "       '464.jpg', '465.jpg', '466.jpg', '467.jpg', '468.jpg', '469.jpg',\n",
       "       '470.jpg', '471.jpg', '472.jpg', '473.jpg', '474.jpg', '475.jpg',\n",
       "       '476.jpg', '477.jpg', '478.jpg', '479.jpg', '480.jpg', '481.jpg',\n",
       "       '482.jpg', '483.jpg', '484.jpg', '485.jpg', '486.jpg', '487.jpg',\n",
       "       '488.jpg', '489.jpg', '490.jpg', '491.jpg', '492.jpg', '493.jpg',\n",
       "       '494.jpg', '495.jpg', '496.jpg', '497.jpg', '498.jpg', '520.jpg',\n",
       "       '521.jpg', '522.jpg', '523.jpg', '524.jpg', '525.jpg', '526.jpg',\n",
       "       '527.jpg', '528.jpg', '529.jpg', '530.jpg', '531.jpg', '532.jpg',\n",
       "       '533.jpg', '534.jpg', '535.jpg', '536.jpg', '537.jpg', '538.jpg',\n",
       "       '539.jpg', '540.jpg', '541.jpg', '542.jpg', '543.jpg', '544.jpg',\n",
       "       '545.jpg', '546.jpg', '547.jpg', '548.jpg', '549.jpg', '550.jpg',\n",
       "       '551.jpg', '552.jpg', '553.jpg', '554.jpg', '555.jpg', '556.jpg',\n",
       "       '557.jpg', '558.jpg', '559.jpg', '560.jpg', '561.jpg', '562.jpg',\n",
       "       '563.jpg', '564.jpg', '565.jpg', '566.jpg', '567.jpg', '568.jpg',\n",
       "       '569.jpg', '570.jpg', '571.jpg', '572.jpg', '573.jpg', '574.jpg',\n",
       "       '575.jpg', '576.jpg', '577.jpg', '578.jpg', '579.jpg', '580.jpg',\n",
       "       '581.jpg', '582.jpg', '583.jpg', '584.jpg', '585.jpg', '586.jpg',\n",
       "       '587.jpg', '588.jpg', '589.jpg', '590.jpg', '591.jpg', '592.jpg',\n",
       "       '593.jpg', '594.jpg', '595.jpg', '596.jpg', '597.jpg', '598.jpg',\n",
       "       '599.jpg', '600.jpg', '601.jpg', '602.jpg', '603.jpg', '604.jpg',\n",
       "       '605.jpg', '606.jpg', '607.jpg', '608.jpg', '609.jpg', '610.jpg',\n",
       "       '611.jpg', '612.jpg', '613.jpg', '614.jpg', '615.jpg', '616.jpg',\n",
       "       '617.jpg', '618.jpg', '619.jpg', '620.jpg'], dtype=object)"
      ]
     },
     "execution_count": 85,
     "metadata": {},
     "output_type": "execute_result"
    }
   ],
   "source": [
    "train_imgs_ids=np.array(data['ImageId'])\n",
    "train_imgs_ids"
   ]
  },
  {
   "cell_type": "code",
   "execution_count": 86,
   "metadata": {},
   "outputs": [
    {
     "data": {
      "text/plain": [
       "array([0, 0, 0, 0, 0, 0, 0, 0, 0, 0, 0, 0, 0, 0, 0, 0, 0, 0, 0, 0, 0, 0,\n",
       "       0, 0, 0, 0, 0, 0, 0, 0, 0, 0, 0, 0, 0, 0, 0, 0, 0, 0, 0, 0, 0, 0,\n",
       "       0, 0, 0, 0, 0, 0, 0, 0, 0, 0, 0, 0, 0, 0, 0, 0, 0, 0, 0, 0, 0, 0,\n",
       "       0, 0, 0, 0, 0, 0, 0, 0, 0, 0, 0, 0, 0, 0, 0, 0, 0, 0, 0, 0, 0, 0,\n",
       "       0, 0, 0, 0, 0, 0, 0, 0, 0, 0, 0, 0, 0, 1, 1, 1, 1, 1, 1, 1, 1, 1,\n",
       "       1, 1, 1, 1, 1, 1, 1, 1, 1, 1, 1, 1, 1, 1, 1, 1, 1, 1, 1, 1, 1, 1,\n",
       "       1, 1, 1, 1, 1, 1, 1, 1, 1, 1, 1, 1, 1, 1, 1, 1, 1, 1, 1, 1, 1, 1,\n",
       "       1, 1, 1, 1, 1, 1, 1, 1, 1, 1, 1, 1, 1, 1, 1, 1, 1, 1, 1, 1, 1, 1,\n",
       "       1, 1, 1, 1, 1, 1, 1, 1, 1, 1, 1, 1, 1, 1, 1, 1, 1, 1, 1, 1, 1, 1,\n",
       "       1, 1, 1, 1, 2, 2, 2, 2, 2, 2, 2, 2, 2, 2, 2, 2, 2, 2, 2, 2, 2, 2,\n",
       "       2, 2, 2, 2, 2, 2, 2, 2, 2, 2, 2, 2, 2, 2, 2, 2, 2, 2, 2, 2, 2, 2,\n",
       "       2, 2, 2, 2, 2, 2, 2, 2, 2, 2, 2, 2, 2, 2, 2, 2, 2, 2, 2, 2, 2, 2,\n",
       "       2, 2, 2, 2, 2, 2, 2, 2, 2, 2, 2, 2, 2, 2, 2, 2, 2, 2, 2, 2, 2, 2,\n",
       "       2, 2, 2, 2, 2, 2, 2, 2, 2, 2, 2, 2, 2, 2, 2, 2, 2, 2], dtype=object)"
      ]
     },
     "execution_count": 86,
     "metadata": {},
     "output_type": "execute_result"
    }
   ],
   "source": [
    "train_labels=np.array(data['NameOfPokemon'])\n",
    "train_labels"
   ]
  },
  {
   "cell_type": "code",
   "execution_count": 87,
   "metadata": {},
   "outputs": [
    {
     "data": {
      "text/plain": [
       "3"
      ]
     },
     "execution_count": 87,
     "metadata": {},
     "output_type": "execute_result"
    }
   ],
   "source": [
    "classes=len(np.unique(data['NameOfPokemon']))\n",
    "classes"
   ]
  },
  {
   "cell_type": "code",
   "execution_count": 88,
   "metadata": {},
   "outputs": [
    {
     "data": {
      "text/html": [
       "<div>\n",
       "<style scoped>\n",
       "    .dataframe tbody tr th:only-of-type {\n",
       "        vertical-align: middle;\n",
       "    }\n",
       "\n",
       "    .dataframe tbody tr th {\n",
       "        vertical-align: top;\n",
       "    }\n",
       "\n",
       "    .dataframe thead th {\n",
       "        text-align: right;\n",
       "    }\n",
       "</style>\n",
       "<table border=\"1\" class=\"dataframe\">\n",
       "  <thead>\n",
       "    <tr style=\"text-align: right;\">\n",
       "      <th></th>\n",
       "      <th>ImageId</th>\n",
       "    </tr>\n",
       "  </thead>\n",
       "  <tbody>\n",
       "    <tr>\n",
       "      <th>0</th>\n",
       "      <td>1106.jpg</td>\n",
       "    </tr>\n",
       "    <tr>\n",
       "      <th>1</th>\n",
       "      <td>2236.jpg</td>\n",
       "    </tr>\n",
       "    <tr>\n",
       "      <th>2</th>\n",
       "      <td>1131.jpg</td>\n",
       "    </tr>\n",
       "    <tr>\n",
       "      <th>3</th>\n",
       "      <td>2221.jpg</td>\n",
       "    </tr>\n",
       "    <tr>\n",
       "      <th>4</th>\n",
       "      <td>2011.jpg</td>\n",
       "    </tr>\n",
       "    <tr>\n",
       "      <th>...</th>\n",
       "      <td>...</td>\n",
       "    </tr>\n",
       "    <tr>\n",
       "      <th>118</th>\n",
       "      <td>1124.jpg</td>\n",
       "    </tr>\n",
       "    <tr>\n",
       "      <th>119</th>\n",
       "      <td>2014.jpg</td>\n",
       "    </tr>\n",
       "    <tr>\n",
       "      <th>120</th>\n",
       "      <td>2235.jpg</td>\n",
       "    </tr>\n",
       "    <tr>\n",
       "      <th>121</th>\n",
       "      <td>1126.jpg</td>\n",
       "    </tr>\n",
       "    <tr>\n",
       "      <th>122</th>\n",
       "      <td>2021.jpg</td>\n",
       "    </tr>\n",
       "  </tbody>\n",
       "</table>\n",
       "<p>123 rows × 1 columns</p>\n",
       "</div>"
      ],
      "text/plain": [
       "      ImageId\n",
       "0    1106.jpg\n",
       "1    2236.jpg\n",
       "2    1131.jpg\n",
       "3    2221.jpg\n",
       "4    2011.jpg\n",
       "..        ...\n",
       "118  1124.jpg\n",
       "119  2014.jpg\n",
       "120  2235.jpg\n",
       "121  1126.jpg\n",
       "122  2021.jpg\n",
       "\n",
       "[123 rows x 1 columns]"
      ]
     },
     "execution_count": 88,
     "metadata": {},
     "output_type": "execute_result"
    }
   ],
   "source": [
    "test_data=pd.read_csv(\"test.csv\")\n",
    "test_data"
   ]
  },
  {
   "cell_type": "code",
   "execution_count": 89,
   "metadata": {
    "scrolled": true
   },
   "outputs": [
    {
     "data": {
      "text/plain": [
       "array(['1106.jpg', '2236.jpg', '1131.jpg', '2221.jpg', '2011.jpg',\n",
       "       '2030.jpg', '2035.jpg', '1110.jpg', '1104.jpg', '2217.jpg',\n",
       "       '1111.jpg', '1100.jpg', '1112.jpg', '1138.jpg', '2238.jpg',\n",
       "       '2009.jpg', '2225.jpg', '2240.jpg', '2020.jpg', '2209.jpg',\n",
       "       '2029.jpg', '1114.jpg', '2201.jpg', '1118.jpg', '2025.jpg',\n",
       "       '2202.jpg', '1117.jpg', '1119.jpg', '2000.jpg', '2007.jpg',\n",
       "       '2039.jpg', '2017.jpg', '2215.jpg', '1120.jpg', '2006.jpg',\n",
       "       '1116.jpg', '1128.jpg', '1125.jpg', '2203.jpg', '1133.jpg',\n",
       "       '1137.jpg', '2220.jpg', '2012.jpg', '2224.jpg', '2206.jpg',\n",
       "       '1122.jpg', '2223.jpg', '1102.jpg', '2234.jpg', '2216.jpg',\n",
       "       '2016.jpg', '2227.jpg', '2013.jpg', '1113.jpg', '2204.jpg',\n",
       "       '1101.jpg', '2208.jpg', '2024.jpg', '2031.jpg', '2222.jpg',\n",
       "       '2211.jpg', '2033.jpg', '2213.jpg', '2231.jpg', '2001.jpg',\n",
       "       '2040.jpg', '1127.jpg', '2023.jpg', '2015.jpg', '1121.jpg',\n",
       "       '2232.jpg', '1139.jpg', '1103.jpg', '2018.jpg', '2233.jpg',\n",
       "       '2212.jpg', '2210.jpg', '2228.jpg', '2026.jpg', '1132.jpg',\n",
       "       '2003.jpg', '1129.jpg', '2214.jpg', '1123.jpg', '2004.jpg',\n",
       "       '1136.jpg', '1140.jpg', '2226.jpg', '2230.jpg', '1135.jpg',\n",
       "       '1105.jpg', '2237.jpg', '1109.jpg', '2022.jpg', '2005.jpg',\n",
       "       '2218.jpg', '2036.jpg', '1115.jpg', '2032.jpg', '2200.jpg',\n",
       "       '1134.jpg', '1130.jpg', '1107.jpg', '2034.jpg', '2205.jpg',\n",
       "       '2008.jpg', '2027.jpg', '2028.jpg', '2239.jpg', '1108.jpg',\n",
       "       '2010.jpg', '2229.jpg', '2219.jpg', '2019.jpg', '2207.jpg',\n",
       "       '2002.jpg', '2037.jpg', '2038.jpg', '1124.jpg', '2014.jpg',\n",
       "       '2235.jpg', '1126.jpg', '2021.jpg'], dtype=object)"
      ]
     },
     "execution_count": 89,
     "metadata": {},
     "output_type": "execute_result"
    }
   ],
   "source": [
    "test_imgs_ids=np.array(test_data['ImageId'])\n",
    "test_imgs_ids"
   ]
  },
  {
   "cell_type": "code",
   "execution_count": 90,
   "metadata": {},
   "outputs": [],
   "source": [
    "p=Path(\"Images\")\n",
    "\n",
    "dirs=p.glob(\"*.jpg\")\n",
    "\n",
    "train_img_data=[]\n",
    "test_img_data=[]\n",
    "\n",
    "for fold in dirs:\n",
    "    label = str(fold).split(\"\\\\\")[-1]\n",
    "    img_path=str(fold).replace(\"\\\\\",\"//\")\n",
    "    img=cv2.imread(img_path)\n",
    "    \n",
    "    rgb_img=cv2.cvtColor(img,cv2.COLOR_BGR2RGB)\n",
    "    rgb_img=cv2.resize(rgb_img,(32,32))\n",
    "    \n",
    "    if label in train_imgs_ids:\n",
    "        train_img_data.append(rgb_img)\n",
    "    elif label in test_imgs_ids:\n",
    "        test_img_data.append(rgb_img)"
   ]
  },
  {
   "cell_type": "code",
   "execution_count": 91,
   "metadata": {},
   "outputs": [
    {
     "name": "stdout",
     "output_type": "stream",
     "text": [
      "(304, 32, 32, 3) (304,)\n",
      "(123, 32, 32, 3)\n"
     ]
    }
   ],
   "source": [
    "# Convert this into numpy array\n",
    "train_img_data = np.array(train_img_data,dtype='float32')/255.0\n",
    "test_img_data = np.array(test_img_data,dtype='float32')/255.0\n",
    "train_labels=np.array(train_labels,dtype=\"int\")\n",
    "\n",
    "\n",
    "print(train_img_data.shape,train_labels.shape)\n",
    "print(test_img_data.shape)"
   ]
  },
  {
   "cell_type": "code",
   "execution_count": 105,
   "metadata": {},
   "outputs": [
    {
     "data": {
      "image/png": "[encoded data removed]",
      "text/plain": [
       "<Figure size 432x288 with 1 Axes>"
      ]
     },
     "metadata": {
      "needs_background": "light"
     },
     "output_type": "display_data"
    },
    {
     "data": {
      "image/png": "[encoded data removed]",
      "text/plain": [
       "<Figure size 432x288 with 1 Axes>"
      ]
     },
     "metadata": {
      "needs_background": "light"
     },
     "output_type": "display_data"
    },
    {
     "data": {
      "image/png": "[encoded data removed]",
      "text/plain": [
       "<Figure size 432x288 with 1 Axes>"
      ]
     },
     "metadata": {
      "needs_background": "light"
     },
     "output_type": "display_data"
    },
    {
     "data": {
      "image/png": "[encoded data removed]",
      "text/plain": [
       "<Figure size 432x288 with 1 Axes>"
      ]
     },
     "metadata": {
      "needs_background": "light"
     },
     "output_type": "display_data"
    },
    {
     "data": {
      "image/png": "[encoded data removed]",
      "text/plain": [
       "<Figure size 432x288 with 1 Axes>"
      ]
     },
     "metadata": {
      "needs_background": "light"
     },
     "output_type": "display_data"
    },
    {
     "data": {
      "image/png": "[encoded data removed]",
      "text/plain": [
       "<Figure size 432x288 with 1 Axes>"
      ]
     },
     "metadata": {
      "needs_background": "light"
     },
     "output_type": "display_data"
    },
    {
     "data": {
      "image/png": "[encoded data removed]",
      "text/plain": [
       "<Figure size 432x288 with 1 Axes>"
      ]
     },
     "metadata": {
      "needs_background": "light"
     },
     "output_type": "display_data"
    },
    {
     "data": {
      "image/png": "[encoded data removed]",
      "text/plain": [
       "<Figure size 432x288 with 1 Axes>"
      ]
     },
     "metadata": {
      "needs_background": "light"
     },
     "output_type": "display_data"
    },
    {
     "data": {
      "image/png": "[encoded data removed]",
      "text/plain": [
       "<Figure size 432x288 with 1 Axes>"
      ]
     },
     "metadata": {
      "needs_background": "light"
     },
     "output_type": "display_data"
    },
    {
     "data": {
      "image/png": "[encoded data removed]",
      "text/plain": [
       "<Figure size 432x288 with 1 Axes>"
      ]
     },
     "metadata": {
      "needs_background": "light"
     },
     "output_type": "display_data"
    },
    {
     "data": {
      "image/png": "[encoded data removed]",
      "text/plain": [
       "<Figure size 432x288 with 1 Axes>"
      ]
     },
     "metadata": {
      "needs_background": "light"
     },
     "output_type": "display_data"
    },
    {
     "data": {
      "image/png": "[encoded data removed]",
      "text/plain": [
       "<Figure size 432x288 with 1 Axes>"
      ]
     },
     "metadata": {
      "needs_background": "light"
     },
     "output_type": "display_data"
    },
    {
     "data": {
      "image/png": "[encoded data removed]",
      "text/plain": [
       "<Figure size 432x288 with 1 Axes>"
      ]
     },
     "metadata": {
      "needs_background": "light"
     },
     "output_type": "display_data"
    },
    {
     "data": {
      "image/png": "[encoded data removed]",
      "text/plain": [
       "<Figure size 432x288 with 1 Axes>"
      ]
     },
     "metadata": {
      "needs_background": "light"
     },
     "output_type": "display_data"
    },
    {
     "data": {
      "image/png": "[encoded data removed]",
      "text/plain": [
       "<Figure size 432x288 with 1 Axes>"
      ]
     },
     "metadata": {
      "needs_background": "light"
     },
     "output_type": "display_data"
    },
    {
     "data": {
      "image/png": "[encoded data removed]",
      "text/plain": [
       "<Figure size 432x288 with 1 Axes>"
      ]
     },
     "metadata": {
      "needs_background": "light"
     },
     "output_type": "display_data"
    },
    {
     "data": {
      "image/png": "[encoded data removed]",
      "text/plain": [
       "<Figure size 432x288 with 1 Axes>"
      ]
     },
     "metadata": {
      "needs_background": "light"
     },
     "output_type": "display_data"
    },
    {
     "data": {
      "image/png": "[encoded data removed]",
      "text/plain": [
       "<Figure size 432x288 with 1 Axes>"
      ]
     },
     "metadata": {
      "needs_background": "light"
     },
     "output_type": "display_data"
    },
    {
     "data": {
      "image/png": "[encoded data removed]",
      "text/plain": [
       "<Figure size 432x288 with 1 Axes>"
      ]
     },
     "metadata": {
      "needs_background": "light"
     },
     "output_type": "display_data"
    }
   ],
   "source": [
    "def drawImg(img,label):\n",
    "    plt.imshow(img)\n",
    "    plt.axis(\"off\")\n",
    "    plt.title(str(label))\n",
    "    plt.show()\n",
    "    \n",
    "import random\n",
    "\n",
    "for i in range(150,280,7):\n",
    "    e=random.randint(i-10,i+10)\n",
    "    drawImg(train_img_data[e],train_labels[e])"
   ]
  },
  {
   "cell_type": "code",
   "execution_count": 106,
   "metadata": {},
   "outputs": [
    {
     "name": "stdout",
     "output_type": "stream",
     "text": [
      "(304, 3072)\n",
      "(123, 3072)\n",
      "(304,)\n"
     ]
    }
   ],
   "source": [
    "M1 = train_img_data.shape[0] \n",
    "M2=test_img_data.shape[0]\n",
    "\n",
    "train_img_data= train_img_data.reshape(M1,-1)\n",
    "test_img_data=test_img_data.reshape(M2,-1)\n",
    "\n",
    "print(train_img_data.shape)\n",
    "print(test_img_data.shape)\n",
    "print(train_labels.shape)"
   ]
  },
  {
   "cell_type": "code",
   "execution_count": 107,
   "metadata": {},
   "outputs": [
    {
     "data": {
      "text/plain": [
       "((228, 3072), (228,), (76, 3072), (76,))"
      ]
     },
     "execution_count": 107,
     "metadata": {},
     "output_type": "execute_result"
    }
   ],
   "source": [
    "from sklearn.model_selection import train_test_split\n",
    "\n",
    "X_train,X_test,Y_train,Y_test=train_test_split(train_img_data,train_labels,test_size=0.25,random_state=115)\n",
    "\n",
    "\n",
    "X_train.shape,Y_train.shape,X_test.shape,Y_test.shape"
   ]
  },
  {
   "cell_type": "code",
   "execution_count": 108,
   "metadata": {},
   "outputs": [
    {
     "data": {
      "text/plain": [
       "array([2, 1, 2, 0, 0, 2, 1, 2, 0, 2, 0, 2, 2, 1, 0, 1, 0, 0, 0, 2, 2, 0,\n",
       "       2, 1, 2, 0, 1, 2, 0, 1, 1, 0, 2, 0, 0, 2, 0, 0, 2, 0, 1, 2, 0, 2,\n",
       "       2, 1, 0, 0, 1, 0, 2, 0, 2, 1, 2, 1, 2, 2, 1, 0, 0, 0, 0, 2, 1, 1,\n",
       "       1, 0, 0, 0, 2, 2, 1, 1, 2, 2, 2, 0, 1, 2, 2, 2, 1, 0, 1, 0, 0, 0,\n",
       "       2, 0, 1, 1, 2, 2, 1, 2, 0, 1, 0, 2, 2, 1, 2, 0, 1, 1, 0, 2, 0, 0,\n",
       "       0, 0, 1, 2, 2, 1, 2, 0, 0, 1, 1, 0, 1, 1, 1, 1, 2, 1, 1, 2, 2, 0,\n",
       "       2, 2, 1, 2, 2, 0, 1, 1, 1, 2, 1, 2, 2, 0, 0, 0, 1, 1, 0, 2, 0, 0,\n",
       "       1, 2, 2, 1, 0, 0, 1, 0, 0, 0, 1, 0, 2, 0, 2, 0, 0, 1, 1, 2, 1, 0,\n",
       "       0, 1, 2, 0, 1, 1, 0, 1, 1, 0, 0, 0, 1, 0, 0, 0, 1, 1, 0, 1, 1, 0,\n",
       "       1, 1, 0, 0, 1, 0, 1, 2, 1, 1, 2, 2, 2, 1, 1, 1, 1, 0, 1, 1, 0, 0,\n",
       "       2, 0, 0, 2, 2, 2, 1, 2])"
      ]
     },
     "execution_count": 108,
     "metadata": {},
     "output_type": "execute_result"
    }
   ],
   "source": [
    "Y_train"
   ]
  },
  {
   "cell_type": "code",
   "execution_count": 109,
   "metadata": {},
   "outputs": [
    {
     "data": {
      "text/plain": [
       "(0.9649122807017544, 0.8421052631578947)"
      ]
     },
     "execution_count": 109,
     "metadata": {},
     "output_type": "execute_result"
    }
   ],
   "source": [
    "from sklearn import svm\n",
    "\n",
    "svm=svm.SVC()\n",
    "svm.fit(X_train,Y_train)\n",
    "svm.score(X_train,Y_train),svm.score(X_test,Y_test)"
   ]
  },
  {
   "cell_type": "code",
   "execution_count": 110,
   "metadata": {},
   "outputs": [],
   "source": [
    "from sklearn.linear_model import LogisticRegression"
   ]
  },
  {
   "cell_type": "code",
   "execution_count": 111,
   "metadata": {},
   "outputs": [
    {
     "name": "stderr",
     "output_type": "stream",
     "text": [
      "C:\\Users\\manja\\anaconda3\\lib\\site-packages\\sklearn\\linear_model\\_logistic.py:940: ConvergenceWarning: lbfgs failed to converge (status=1):\n",
      "STOP: TOTAL NO. of ITERATIONS REACHED LIMIT.\n",
      "\n",
      "Increase the number of iterations (max_iter) or scale the data as shown in:\n",
      "    https://scikit-learn.org/stable/modules/preprocessing.html\n",
      "Please also refer to the documentation for alternative solver options:\n",
      "    https://scikit-learn.org/stable/modules/linear_model.html#logistic-regression\n",
      "  extra_warning_msg=_LOGISTIC_SOLVER_CONVERGENCE_MSG)\n"
     ]
    },
    {
     "data": {
      "text/plain": [
       "(1.0, 0.9078947368421053)"
      ]
     },
     "execution_count": 111,
     "metadata": {},
     "output_type": "execute_result"
    }
   ],
   "source": [
    "alg=LogisticRegression()\n",
    "alg.fit(X_train,Y_train)\n",
    "alg.score(X_train,Y_train),alg.score(X_test,Y_test)"
   ]
  },
  {
   "cell_type": "code",
   "execution_count": null,
   "metadata": {},
   "outputs": [],
   "source": []
  },
  {
   "cell_type": "code",
   "execution_count": null,
   "metadata": {},
   "outputs": [],
   "source": []
  },
  {
   "cell_type": "code",
   "execution_count": 72,
   "metadata": {},
   "outputs": [
    {
     "data": {
      "text/plain": [
       "array([1, 1, 1, 1, 1, 1, 1, 1, 1, 1, 1, 1, 1, 1, 1, 1, 1, 1, 1, 1, 1, 1,\n",
       "       1, 1, 1, 1, 1, 2, 1, 1, 1, 1, 1, 1, 1, 1, 1, 1, 1, 0, 1, 0, 0, 0,\n",
       "       0, 0, 0, 0, 0, 0, 1, 0, 0, 0, 0, 0, 0, 0, 0, 0, 2, 0, 0, 0, 2, 0,\n",
       "       0, 0, 0, 0, 0, 2, 0, 0, 0, 0, 0, 0, 0, 0, 0, 0, 2, 2, 2, 2, 2, 2,\n",
       "       2, 0, 2, 2, 2, 2, 2, 0, 2, 2, 2, 2, 2, 2, 2, 2, 2, 2, 2, 2, 2, 2,\n",
       "       2, 2, 2, 1, 0, 2, 0, 2, 2, 2, 2, 2, 2])"
      ]
     },
     "execution_count": 72,
     "metadata": {},
     "output_type": "execute_result"
    }
   ],
   "source": [
    "pred1=alg.predict(test_img_data)\n",
    "\n",
    "pred1"
   ]
  },
  {
   "cell_type": "code",
   "execution_count": 73,
   "metadata": {},
   "outputs": [],
   "source": [
    "pred1=np.array(pred1,dtype=\"object\")"
   ]
  },
  {
   "cell_type": "code",
   "execution_count": 74,
   "metadata": {},
   "outputs": [
    {
     "data": {
      "text/plain": [
       "array(['Bulbasaur', 'Bulbasaur', 'Bulbasaur', 'Bulbasaur', 'Bulbasaur',\n",
       "       'Bulbasaur', 'Bulbasaur', 'Bulbasaur', 'Bulbasaur', 'Bulbasaur',\n",
       "       'Bulbasaur', 'Bulbasaur', 'Bulbasaur', 'Bulbasaur', 'Bulbasaur',\n",
       "       'Bulbasaur', 'Bulbasaur', 'Bulbasaur', 'Bulbasaur', 'Bulbasaur',\n",
       "       'Bulbasaur', 'Bulbasaur', 'Bulbasaur', 'Bulbasaur', 'Bulbasaur',\n",
       "       'Bulbasaur', 'Bulbasaur', 'Charmander', 'Bulbasaur', 'Bulbasaur',\n",
       "       'Bulbasaur', 'Bulbasaur', 'Bulbasaur', 'Bulbasaur', 'Bulbasaur',\n",
       "       'Bulbasaur', 'Bulbasaur', 'Bulbasaur', 'Bulbasaur', 'Pikachu',\n",
       "       'Bulbasaur', 'Pikachu', 'Pikachu', 'Pikachu', 'Pikachu', 'Pikachu',\n",
       "       'Pikachu', 'Pikachu', 'Pikachu', 'Pikachu', 'Bulbasaur', 'Pikachu',\n",
       "       'Pikachu', 'Pikachu', 'Pikachu', 'Pikachu', 'Pikachu', 'Pikachu',\n",
       "       'Pikachu', 'Pikachu', 'Charmander', 'Pikachu', 'Pikachu',\n",
       "       'Pikachu', 'Charmander', 'Pikachu', 'Pikachu', 'Pikachu',\n",
       "       'Pikachu', 'Pikachu', 'Pikachu', 'Charmander', 'Pikachu',\n",
       "       'Pikachu', 'Pikachu', 'Pikachu', 'Pikachu', 'Pikachu', 'Pikachu',\n",
       "       'Pikachu', 'Pikachu', 'Pikachu', 'Charmander', 'Charmander',\n",
       "       'Charmander', 'Charmander', 'Charmander', 'Charmander',\n",
       "       'Charmander', 'Pikachu', 'Charmander', 'Charmander', 'Charmander',\n",
       "       'Charmander', 'Charmander', 'Pikachu', 'Charmander', 'Charmander',\n",
       "       'Charmander', 'Charmander', 'Charmander', 'Charmander',\n",
       "       'Charmander', 'Charmander', 'Charmander', 'Charmander',\n",
       "       'Charmander', 'Charmander', 'Charmander', 'Charmander',\n",
       "       'Charmander', 'Charmander', 'Charmander', 'Bulbasaur', 'Pikachu',\n",
       "       'Charmander', 'Pikachu', 'Charmander', 'Charmander', 'Charmander',\n",
       "       'Charmander', 'Charmander', 'Charmander'], dtype=object)"
      ]
     },
     "execution_count": 74,
     "metadata": {},
     "output_type": "execute_result"
    }
   ],
   "source": [
    "pred1[pred1==0]=\"Pikachu\"\n",
    "pred1[pred1==1]=\"Bulbasaur\"\n",
    "pred1[pred1==2]=\"Charmander\"\n",
    "pred1"
   ]
  },
  {
   "cell_type": "code",
   "execution_count": 75,
   "metadata": {},
   "outputs": [
    {
     "data": {
      "text/plain": [
       "[('1106.jpg', 'Bulbasaur'),\n",
       " ('2236.jpg', 'Bulbasaur'),\n",
       " ('1131.jpg', 'Bulbasaur'),\n",
       " ('2221.jpg', 'Bulbasaur'),\n",
       " ('2011.jpg', 'Bulbasaur'),\n",
       " ('2030.jpg', 'Bulbasaur'),\n",
       " ('2035.jpg', 'Bulbasaur'),\n",
       " ('1110.jpg', 'Bulbasaur'),\n",
       " ('1104.jpg', 'Bulbasaur'),\n",
       " ('2217.jpg', 'Bulbasaur'),\n",
       " ('1111.jpg', 'Bulbasaur'),\n",
       " ('1100.jpg', 'Bulbasaur'),\n",
       " ('1112.jpg', 'Bulbasaur'),\n",
       " ('1138.jpg', 'Bulbasaur'),\n",
       " ('2238.jpg', 'Bulbasaur'),\n",
       " ('2009.jpg', 'Bulbasaur'),\n",
       " ('2225.jpg', 'Bulbasaur'),\n",
       " ('2240.jpg', 'Bulbasaur'),\n",
       " ('2020.jpg', 'Bulbasaur'),\n",
       " ('2209.jpg', 'Bulbasaur'),\n",
       " ('2029.jpg', 'Bulbasaur'),\n",
       " ('1114.jpg', 'Bulbasaur'),\n",
       " ('2201.jpg', 'Bulbasaur'),\n",
       " ('1118.jpg', 'Bulbasaur'),\n",
       " ('2025.jpg', 'Bulbasaur'),\n",
       " ('2202.jpg', 'Bulbasaur'),\n",
       " ('1117.jpg', 'Bulbasaur'),\n",
       " ('1119.jpg', 'Charmander'),\n",
       " ('2000.jpg', 'Bulbasaur'),\n",
       " ('2007.jpg', 'Bulbasaur'),\n",
       " ('2039.jpg', 'Bulbasaur'),\n",
       " ('2017.jpg', 'Bulbasaur'),\n",
       " ('2215.jpg', 'Bulbasaur'),\n",
       " ('1120.jpg', 'Bulbasaur'),\n",
       " ('2006.jpg', 'Bulbasaur'),\n",
       " ('1116.jpg', 'Bulbasaur'),\n",
       " ('1128.jpg', 'Bulbasaur'),\n",
       " ('1125.jpg', 'Bulbasaur'),\n",
       " ('2203.jpg', 'Bulbasaur'),\n",
       " ('1133.jpg', 'Pikachu'),\n",
       " ('1137.jpg', 'Bulbasaur'),\n",
       " ('2220.jpg', 'Pikachu'),\n",
       " ('2012.jpg', 'Pikachu'),\n",
       " ('2224.jpg', 'Pikachu'),\n",
       " ('2206.jpg', 'Pikachu'),\n",
       " ('1122.jpg', 'Pikachu'),\n",
       " ('2223.jpg', 'Pikachu'),\n",
       " ('1102.jpg', 'Pikachu'),\n",
       " ('2234.jpg', 'Pikachu'),\n",
       " ('2216.jpg', 'Pikachu'),\n",
       " ('2016.jpg', 'Bulbasaur'),\n",
       " ('2227.jpg', 'Pikachu'),\n",
       " ('2013.jpg', 'Pikachu'),\n",
       " ('1113.jpg', 'Pikachu'),\n",
       " ('2204.jpg', 'Pikachu'),\n",
       " ('1101.jpg', 'Pikachu'),\n",
       " ('2208.jpg', 'Pikachu'),\n",
       " ('2024.jpg', 'Pikachu'),\n",
       " ('2031.jpg', 'Pikachu'),\n",
       " ('2222.jpg', 'Pikachu'),\n",
       " ('2211.jpg', 'Charmander'),\n",
       " ('2033.jpg', 'Pikachu'),\n",
       " ('2213.jpg', 'Pikachu'),\n",
       " ('2231.jpg', 'Pikachu'),\n",
       " ('2001.jpg', 'Charmander'),\n",
       " ('2040.jpg', 'Pikachu'),\n",
       " ('1127.jpg', 'Pikachu'),\n",
       " ('2023.jpg', 'Pikachu'),\n",
       " ('2015.jpg', 'Pikachu'),\n",
       " ('1121.jpg', 'Pikachu'),\n",
       " ('2232.jpg', 'Pikachu'),\n",
       " ('1139.jpg', 'Charmander'),\n",
       " ('1103.jpg', 'Pikachu'),\n",
       " ('2018.jpg', 'Pikachu'),\n",
       " ('2233.jpg', 'Pikachu'),\n",
       " ('2212.jpg', 'Pikachu'),\n",
       " ('2210.jpg', 'Pikachu'),\n",
       " ('2228.jpg', 'Pikachu'),\n",
       " ('2026.jpg', 'Pikachu'),\n",
       " ('1132.jpg', 'Pikachu'),\n",
       " ('2003.jpg', 'Pikachu'),\n",
       " ('1129.jpg', 'Pikachu'),\n",
       " ('2214.jpg', 'Charmander'),\n",
       " ('1123.jpg', 'Charmander'),\n",
       " ('2004.jpg', 'Charmander'),\n",
       " ('1136.jpg', 'Charmander'),\n",
       " ('1140.jpg', 'Charmander'),\n",
       " ('2226.jpg', 'Charmander'),\n",
       " ('2230.jpg', 'Charmander'),\n",
       " ('1135.jpg', 'Pikachu'),\n",
       " ('1105.jpg', 'Charmander'),\n",
       " ('2237.jpg', 'Charmander'),\n",
       " ('1109.jpg', 'Charmander'),\n",
       " ('2022.jpg', 'Charmander'),\n",
       " ('2005.jpg', 'Charmander'),\n",
       " ('2218.jpg', 'Pikachu'),\n",
       " ('2036.jpg', 'Charmander'),\n",
       " ('1115.jpg', 'Charmander'),\n",
       " ('2032.jpg', 'Charmander'),\n",
       " ('2200.jpg', 'Charmander'),\n",
       " ('1134.jpg', 'Charmander'),\n",
       " ('1130.jpg', 'Charmander'),\n",
       " ('1107.jpg', 'Charmander'),\n",
       " ('2034.jpg', 'Charmander'),\n",
       " ('2205.jpg', 'Charmander'),\n",
       " ('2008.jpg', 'Charmander'),\n",
       " ('2027.jpg', 'Charmander'),\n",
       " ('2028.jpg', 'Charmander'),\n",
       " ('2239.jpg', 'Charmander'),\n",
       " ('1108.jpg', 'Charmander'),\n",
       " ('2010.jpg', 'Charmander'),\n",
       " ('2229.jpg', 'Charmander'),\n",
       " ('2219.jpg', 'Charmander'),\n",
       " ('2019.jpg', 'Bulbasaur'),\n",
       " ('2207.jpg', 'Pikachu'),\n",
       " ('2002.jpg', 'Charmander'),\n",
       " ('2037.jpg', 'Pikachu'),\n",
       " ('2038.jpg', 'Charmander'),\n",
       " ('1124.jpg', 'Charmander'),\n",
       " ('2014.jpg', 'Charmander'),\n",
       " ('2235.jpg', 'Charmander'),\n",
       " ('1126.jpg', 'Charmander'),\n",
       " ('2021.jpg', 'Charmander')]"
      ]
     },
     "execution_count": 75,
     "metadata": {},
     "output_type": "execute_result"
    }
   ],
   "source": [
    "res=list(zip(test_imgs_ids,pred1))\n",
    "res"
   ]
  },
  {
   "cell_type": "code",
   "execution_count": 77,
   "metadata": {},
   "outputs": [
    {
     "data": {
      "text/html": [
       "<div>\n",
       "<style scoped>\n",
       "    .dataframe tbody tr th:only-of-type {\n",
       "        vertical-align: middle;\n",
       "    }\n",
       "\n",
       "    .dataframe tbody tr th {\n",
       "        vertical-align: top;\n",
       "    }\n",
       "\n",
       "    .dataframe thead th {\n",
       "        text-align: right;\n",
       "    }\n",
       "</style>\n",
       "<table border=\"1\" class=\"dataframe\">\n",
       "  <thead>\n",
       "    <tr style=\"text-align: right;\">\n",
       "      <th></th>\n",
       "      <th>ImageId</th>\n",
       "      <th>NameOfPokemon</th>\n",
       "    </tr>\n",
       "  </thead>\n",
       "  <tbody>\n",
       "    <tr>\n",
       "      <th>0</th>\n",
       "      <td>1106.jpg</td>\n",
       "      <td>Bulbasaur</td>\n",
       "    </tr>\n",
       "    <tr>\n",
       "      <th>1</th>\n",
       "      <td>2236.jpg</td>\n",
       "      <td>Bulbasaur</td>\n",
       "    </tr>\n",
       "    <tr>\n",
       "      <th>2</th>\n",
       "      <td>1131.jpg</td>\n",
       "      <td>Bulbasaur</td>\n",
       "    </tr>\n",
       "    <tr>\n",
       "      <th>3</th>\n",
       "      <td>2221.jpg</td>\n",
       "      <td>Bulbasaur</td>\n",
       "    </tr>\n",
       "    <tr>\n",
       "      <th>4</th>\n",
       "      <td>2011.jpg</td>\n",
       "      <td>Bulbasaur</td>\n",
       "    </tr>\n",
       "    <tr>\n",
       "      <th>...</th>\n",
       "      <td>...</td>\n",
       "      <td>...</td>\n",
       "    </tr>\n",
       "    <tr>\n",
       "      <th>118</th>\n",
       "      <td>1124.jpg</td>\n",
       "      <td>Charmander</td>\n",
       "    </tr>\n",
       "    <tr>\n",
       "      <th>119</th>\n",
       "      <td>2014.jpg</td>\n",
       "      <td>Charmander</td>\n",
       "    </tr>\n",
       "    <tr>\n",
       "      <th>120</th>\n",
       "      <td>2235.jpg</td>\n",
       "      <td>Charmander</td>\n",
       "    </tr>\n",
       "    <tr>\n",
       "      <th>121</th>\n",
       "      <td>1126.jpg</td>\n",
       "      <td>Charmander</td>\n",
       "    </tr>\n",
       "    <tr>\n",
       "      <th>122</th>\n",
       "      <td>2021.jpg</td>\n",
       "      <td>Charmander</td>\n",
       "    </tr>\n",
       "  </tbody>\n",
       "</table>\n",
       "<p>123 rows × 2 columns</p>\n",
       "</div>"
      ],
      "text/plain": [
       "      ImageId NameOfPokemon\n",
       "0    1106.jpg     Bulbasaur\n",
       "1    2236.jpg     Bulbasaur\n",
       "2    1131.jpg     Bulbasaur\n",
       "3    2221.jpg     Bulbasaur\n",
       "4    2011.jpg     Bulbasaur\n",
       "..        ...           ...\n",
       "118  1124.jpg    Charmander\n",
       "119  2014.jpg    Charmander\n",
       "120  2235.jpg    Charmander\n",
       "121  1126.jpg    Charmander\n",
       "122  2021.jpg    Charmander\n",
       "\n",
       "[123 rows x 2 columns]"
      ]
     },
     "execution_count": 77,
     "metadata": {},
     "output_type": "execute_result"
    }
   ],
   "source": [
    "ans=pd.DataFrame(res,index=None,columns=['ImageId','NameOfPokemon'])\n",
    "ans"
   ]
  },
  {
   "cell_type": "code",
   "execution_count": 79,
   "metadata": {},
   "outputs": [],
   "source": [
    "ans.to_csv(\"ans.csv\",index=None)"
   ]
  },
  {
   "cell_type": "code",
   "execution_count": null,
   "metadata": {},
   "outputs": [],
   "source": []
  }
 ],
 "metadata": {
  "kernelspec": {
   "display_name": "Python 3",
   "language": "python",
   "name": "python3"
  },
  "language_info": {
   "codemirror_mode": {
    "name": "ipython",
    "version": 3
   },
   "file_extension": ".py",
   "mimetype": "text/x-python",
   "name": "python",
   "nbconvert_exporter": "python",
   "pygments_lexer": "ipython3",
   "version": "3.7.6"
  }
 },
 "nbformat": 4,
 "nbformat_minor": 4
}
