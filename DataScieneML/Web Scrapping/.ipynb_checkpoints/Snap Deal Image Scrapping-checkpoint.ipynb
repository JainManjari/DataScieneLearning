{
 "cells": [
  {
   "cell_type": "code",
   "execution_count": 1,
   "metadata": {},
   "outputs": [],
   "source": [
    "import requests\n",
    "from bs4 import BeautifulSoup as soup"
   ]
  },
  {
   "cell_type": "code",
   "execution_count": 2,
   "metadata": {},
   "outputs": [
    {
     "name": "stdout",
     "output_type": "stream",
     "text": [
      "Enter Search: women+purses+black\n"
     ]
    }
   ],
   "source": [
    "item=input(\"Enter Search: \")\n",
    "url=f\"https://www.snapdeal.com/search?keyword={item}&sort=rlvncy\""
   ]
  },
  {
   "cell_type": "code",
   "execution_count": 3,
   "metadata": {},
   "outputs": [
    {
     "data": {
      "text/plain": [
       "<Response [200]>"
      ]
     },
     "execution_count": 3,
     "metadata": {},
     "output_type": "execute_result"
    }
   ],
   "source": [
    "response=requests.get(url)\n",
    "response"
   ]
  },
  {
   "cell_type": "code",
   "execution_count": 4,
   "metadata": {},
   "outputs": [],
   "source": [
    "#response.content"
   ]
  },
  {
   "cell_type": "code",
   "execution_count": 5,
   "metadata": {},
   "outputs": [],
   "source": [
    "page_soup=soup(response.content,'html.parser')\n",
    "#page_soup"
   ]
  },
  {
   "cell_type": "code",
   "execution_count": 6,
   "metadata": {},
   "outputs": [
    {
     "data": {
      "text/plain": [
       "20"
      ]
     },
     "execution_count": 6,
     "metadata": {},
     "output_type": "execute_result"
    }
   ],
   "source": [
    "divs=page_soup.findAll(\"div\",{\"class\":\"product-tuple-image\"})\n",
    "len(divs)"
   ]
  },
  {
   "cell_type": "code",
   "execution_count": 7,
   "metadata": {},
   "outputs": [
    {
     "data": {
      "text/plain": [
       "<div class=\"product-tuple-image\">\n",
       "<a class=\"dp-widget-link\" data-position=\"8;17388\" href=\"https://www.snapdeal.com/product/lafille-black-faux-leather-handheld/631544745541\" pogid=\"631544745541\" target=\"_blank\">\n",
       "<div class=\"bg-image hidden\"></div>\n",
       "<picture class=\"picture-elem\">\n",
       "<source class=\"product-image\" media=\"(min-width: 1430px)\" srcset=\"https://n4.sdlcdn.com/imgs/j/h/m/large/LaFille-Black-Faux-Leather-Handheld-SDL636037391-1-85338.jpeg\" title=\"LaFille Black Faux Leather Handheld\"/>\n",
       "<img class=\"product-image lazy-load\" data-src=\"https://n4.sdlcdn.com/imgs/j/h/m/230X258_sharpened/LaFille-Black-Faux-Leather-Handheld-SDL636037391-1-85338.jpeg\" title=\"LaFille Black Faux Leather Handheld\"/>\n",
       "</picture>\n",
       "<input class=\"compareImg\" type=\"hidden\" value=\"https://n4.sdlcdn.com/imgs/j/h/m/64x75/LaFille-Black-Faux-Leather-Handheld-SDL636037391-1-85338.jpeg\">\n",
       "</input></a>\n",
       "<div class=\"clearfix row-disc\">\n",
       "<div cartid=\"\" class=\"center quick-view-bar btn btn-theme-secondary\" pogid=\"631544745541\" supc=\"SDL636037391\">\n",
       "\t\t\t\t\tQuick View</div>\n",
       "</div>\n",
       "</div>"
      ]
     },
     "execution_count": 7,
     "metadata": {},
     "output_type": "execute_result"
    }
   ],
   "source": [
    "divs[11]"
   ]
  },
  {
   "cell_type": "code",
   "execution_count": 8,
   "metadata": {},
   "outputs": [
    {
     "data": {
      "text/plain": [
       "<img class=\"product-image lazy-load\" data-src=\"https://n4.sdlcdn.com/imgs/j/h/m/230X258_sharpened/LaFille-Black-Faux-Leather-Handheld-SDL636037391-1-85338.jpeg\" title=\"LaFille Black Faux Leather Handheld\"/>"
      ]
     },
     "execution_count": 8,
     "metadata": {},
     "output_type": "execute_result"
    }
   ],
   "source": [
    "divs[11].img"
   ]
  },
  {
   "cell_type": "code",
   "execution_count": 9,
   "metadata": {},
   "outputs": [
    {
     "data": {
      "text/plain": [
       "<img class=\"product-image\" src=\"https://n1.sdlcdn.com/imgs/j/i/w/230X258_sharpened/TAP-FASHION-Black-P-U-SDL017576924-1-b52fa.jpeg\" title=\"TAP FASHION Black P.U. Sling Bag\"/>"
      ]
     },
     "execution_count": 9,
     "metadata": {},
     "output_type": "execute_result"
    }
   ],
   "source": [
    "divs[0].img"
   ]
  },
  {
   "cell_type": "code",
   "execution_count": 10,
   "metadata": {},
   "outputs": [],
   "source": [
    "#divs[11].img[\"src\"]"
   ]
  },
  {
   "cell_type": "code",
   "execution_count": 11,
   "metadata": {},
   "outputs": [],
   "source": [
    "img_urls=[]\n",
    "\n",
    "for div in divs:\n",
    "    attrs=div.img.attrs\n",
    "    src=\"\"\n",
    "    if \"src\" in attrs:\n",
    "        src=attrs[\"src\"]\n",
    "    else:\n",
    "        src=attrs[\"data-src\"]\n",
    "    img_urls.append(src)"
   ]
  },
  {
   "cell_type": "code",
   "execution_count": 12,
   "metadata": {},
   "outputs": [
    {
     "data": {
      "text/plain": [
       "20"
      ]
     },
     "execution_count": 12,
     "metadata": {},
     "output_type": "execute_result"
    }
   ],
   "source": [
    "len(img_urls)"
   ]
  },
  {
   "cell_type": "code",
   "execution_count": 13,
   "metadata": {},
   "outputs": [
    {
     "data": {
      "text/plain": [
       "['https://n1.sdlcdn.com/imgs/j/i/w/230X258_sharpened/TAP-FASHION-Black-P-U-SDL017576924-1-b52fa.jpeg',\n",
       " 'https://n1.sdlcdn.com/imgs/h/m/4/230X258_sharpened/Lorna-Black-Wallet-SDL161139051-1-518a9.jpeg',\n",
       " 'https://n3.sdlcdn.com/imgs/j/d/y/230X258_sharpened/Ratan-s-Black-Faux-Leather-SDL034502079-1-c98db.jpeg',\n",
       " 'https://n2.sdlcdn.com/imgs/j/m/z/230X258_sharpened/Lorna-Black-Wallet-SDL936912820-1-71dd7.jpg',\n",
       " 'https://n4.sdlcdn.com/imgs/j/h/4/230X258_sharpened/Ailtino-Black-Velvet-Box-Clutch-SDL256316822-1-a9fce.jpg',\n",
       " 'https://n4.sdlcdn.com/imgs/i/5/w/230X258_sharpened/Mammon-Black-P-U-Shoulder-SDL940741745-1-e2d54.jpeg',\n",
       " 'https://n3.sdlcdn.com/imgs/j/m/u/230X258_sharpened/Lorna-Black-Wallet-SDL730711776-1-85c69.jpeg',\n",
       " 'https://n2.sdlcdn.com/imgs/j/j/m/230X258_sharpened/Fostelo-Black-Faux-Leather-Shoulder-SDL081567411-1-bd5c3.jpeg',\n",
       " 'https://n3.sdlcdn.com/imgs/j/e/t/230X258_sharpened/Ratan-s-Black-P-U-SDL045430784-1-3a4d6.jpg',\n",
       " 'https://n2.sdlcdn.com/imgs/j/h/i/230X258_sharpened/Mark-Keith-Black-P-U-SDL379839737-1-522be.jpeg',\n",
       " 'https://n4.sdlcdn.com/imgs/j/j/l/230X258_sharpened/Fostelo-Black-P-U-Shoulder-SDL228395236-1-9632a.jpeg',\n",
       " 'https://n4.sdlcdn.com/imgs/j/h/m/230X258_sharpened/LaFille-Black-Faux-Leather-Handheld-SDL636037391-1-85338.jpeg',\n",
       " 'https://n2.sdlcdn.com/imgs/h/m/n/230X258_sharpened/Lychee-Bags-Black-Canvas-Sling-SDL297152904-1-8d3ed.jpeg',\n",
       " 'https://n2.sdlcdn.com/imgs/a/i/q/230X258_sharpened/Butterflies-Black-Perforated-Design-Handbag-SDL213067710-1-540b0.jpg',\n",
       " 'https://n3.sdlcdn.com/imgs/j/c/4/230X258_sharpened/MARISSA-BAG-Black-Canvas-Sling-SDL542493959-1-af371.JPG',\n",
       " 'https://n2.sdlcdn.com/imgs/h/7/b/230X258_sharpened/OSaiZ-Black-P-U-Sling-SDL693582818-1-0a2a1.jpeg',\n",
       " 'https://n3.sdlcdn.com/imgs/i/z/f/230X258_sharpened/Parrk-Black-P-U-Sling-SDL594454786-1-7787d.jpg',\n",
       " 'https://n1.sdlcdn.com/imgs/f/2/8/230X258_sharpened/LADY-QUEEN-Black-Faux-Leather-SDL197740555-1-cd627.JPG',\n",
       " 'https://n3.sdlcdn.com/imgs/j/f/2/230X258_sharpened/Parrk-Black-P-U-Sling-SDL742646478-1-96da8.jpg',\n",
       " 'https://n4.sdlcdn.com/imgs/i/s/u/230X258_sharpened/Parrk-Black-P-U-Sling-SDL960218890-1-821e2.jpeg']"
      ]
     },
     "execution_count": 13,
     "metadata": {},
     "output_type": "execute_result"
    }
   ],
   "source": [
    "img_urls"
   ]
  },
  {
   "cell_type": "code",
   "execution_count": 14,
   "metadata": {},
   "outputs": [],
   "source": [
    "for i,img in enumerate(img_urls):\n",
    "    with open(f\"Images_Scrapping/snap_deal_{item}_{i+1}.jpg\",\"wb\") as file:\n",
    "        response=requests.get(img)\n",
    "        file.write(response.content)"
   ]
  },
  {
   "cell_type": "code",
   "execution_count": null,
   "metadata": {},
   "outputs": [],
   "source": []
  }
 ],
 "metadata": {
  "kernelspec": {
   "display_name": "Python 3",
   "language": "python",
   "name": "python3"
  },
  "language_info": {
   "codemirror_mode": {
    "name": "ipython",
    "version": 3
   },
   "file_extension": ".py",
   "mimetype": "text/x-python",
   "name": "python",
   "nbconvert_exporter": "python",
   "pygments_lexer": "ipython3",
   "version": "3.7.6"
  }
 },
 "nbformat": 4,
 "nbformat_minor": 4
}
